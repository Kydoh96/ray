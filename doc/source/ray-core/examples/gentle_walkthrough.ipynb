{
 "cells": [
  {
   "cell_type": "markdown",
   "id": "9cdddbae",
   "metadata": {},
   "source": [
    "# A Gentle Introduction to Ray Core by Example"
   ]
  },
  {
   "cell_type": "markdown",
   "id": "9d4d0ecd",
   "metadata": {},
   "source": [
    "Many of Ray’s core concepts can be explained with a good example,\n",
    "so that’s exactly what we’ll do in this example.\n",
    "To run this example on your own, make sure you have Ray installed:"
   ]
  },
  {
   "cell_type": "code",
   "execution_count": null,
   "id": "6115afbb",
   "metadata": {},
   "outputs": [],
   "source": [
    "! pip install ray"
   ]
  },
  {
   "cell_type": "markdown",
   "id": "be9d3c98",
   "metadata": {},
   "source": [
    "## A Ray Core Intro\n",
    "\n",
    "To start a local cluster you can simply run"
   ]
  },
  {
   "cell_type": "code",
   "execution_count": null,
   "outputs": [],
   "source": [
    "import ray\n",
    "ray.init()"
   ],
   "metadata": {
    "collapsed": false
   }
  },
  {
   "cell_type": "markdown",
   "source": [
    "After running this code you will see output of the following form.\n",
    "We omit a lot of information in this example output, as that\n",
    "would require you to understand more of Ray’s internals first."
   ],
   "metadata": {
    "collapsed": false
   }
  },
  {
   "cell_type": "markdown",
   "id": "e75826f4",
   "metadata": {},
   "source": [
    "```\n",
    "... INFO services.py:1263 -- View the Ray dashboard at http://127.0.0.1:8265\n",
    "{'node_ip_address': '192.168.1.41',\n",
    "...\n",
    "'node_id': '...'}\n",
    "```"
   ]
  },
  {
   "cell_type": "markdown",
   "id": "4c837608",
   "metadata": {},
   "source": [
    "The output of this command indicates that your Ray cluster is working properly.\n",
    "As shown in the first line of the output, Ray includes its own dashboard that can be accessed at `http://127.0.0.1:8265`\n",
    " (unless a different port is listed in the output). You can take some time to explore the dashboard,\n",
    " which will display information such as the number of CPU cores available and the total utilization of your current Ray application.\n",
    " If you want to see the resource utilization of your Ray cluster within a Python script, you can use the `ray.cluster_resources()` function.\n",
    " Here's a realistic output that you might see on your laptop:\n",
    "\n",
    "```\n",
    "{'CPU': 12.0,\n",
    "'memory': 14203886388.0,\n",
    "'node:127.0.0.1': 1.0,\n",
    "'object_store_memory': 2147483648.0}\n",
    "```"
   ]
  },
  {
   "cell_type": "markdown",
   "id": "cf542ed9",
   "metadata": {},
   "source": [
    "Next, we want to give you a brief introduction to the Ray Core API, which we simply will refer to as the Ray API from now on.\n",
    "One of the great things about the Ray API for Python programmers is that it feels very familiar,\n",
    "using concepts such as decorators, functions, and classes.\n",
    "The Ray API is designed to provide a universal programming interface for distributed computing.\n",
    "The Ray engine handles the complicated work behind the scenes, allowing Ray to be used with existing Python libraries and systems."
   ]
  },
  {
   "cell_type": "markdown",
   "id": "1d52f02a",
   "metadata": {},
   "source": [
    "We want to give you an in-depth understanding of how Ray works and how you can grasp its basic concepts.\n",
    "It is important to note that if you are a Python programmer with less experience or prefer to concentrate on more advanced tasks,\n",
    "it may take some time to become familiar with Ray Core.\n",
    "However, we highly recommend taking the time to learn the Ray Core API as it is a great way to start working with distributed computing using Python."
   ]
  },
  {
   "cell_type": "markdown",
   "id": "83d1a3bf",
   "metadata": {},
   "source": [
    "## Your First Ray API Example\n",
    "\n",
    "To give you an example, take the following function which retrieves and processes\n",
    "data from a database. Our dummy `database` is a plain Python list containing the\n",
    "words of the title of the [\"Learning Ray\" book](https://www.amazon.com/Learning-Ray-Flexible-Distributed-Machine/dp/1098117220/).\n",
    "To simulate the idea that accessing and processing data from the database is costly, we have the function\n",
    "`sleep` (pause for a certain amount of time) in Python."
   ]
  },
  {
   "cell_type": "code",
   "execution_count": 2,
   "id": "e053331e",
   "metadata": {},
   "outputs": [],
   "source": [
    "import time\n",
    "\n",
    "database = [\n",
    "    \"Learning\", \"Ray\",\n",
    "    \"Flexible\", \"Distributed\", \"Python\", \"for\", \"Machine\", \"Learning\"\n",
    "]\n",
    "\n",
    "\n",
    "def retrieve(item):\n",
    "    time.sleep(item / 10.)\n",
    "    return item, database[item]"
   ]
  },
  {
   "cell_type": "markdown",
   "id": "2b518f4f",
   "metadata": {},
   "source": [
    "Our database has eight items in total. If we were to retrieve all items sequentially,\n",
    "how long should that take?\n",
    "For the item with index 5 we wait for half a second `(5 / 10.)` and so on.\n",
    "In total, we can expect a runtime of around `(0+1+2+3+4+5+6+7)/10. = 2.8` seconds.\n",
    "Let’s see if that’s what we actually get:"
   ]
  },
  {
   "cell_type": "code",
   "execution_count": 3,
   "id": "b0091149",
   "metadata": {
    "lines_to_next_cell": 2
   },
   "outputs": [
    {
     "name": "stdout",
     "output_type": "stream",
     "text": [
      "Runtime: 2.82 seconds, data:\n",
      "(0, 'Learning')\n",
      "(1, 'Ray')\n",
      "(2, 'Flexible')\n",
      "(3, 'Distributed')\n",
      "(4, 'Python')\n",
      "(5, 'for')\n",
      "(6, 'Machine')\n",
      "(7, 'Learning')\n"
     ]
    }
   ],
   "source": [
    "def print_runtime(input_data, start_time):\n",
    "    print(f'Runtime: {time.time() - start_time:.2f} seconds, data:')\n",
    "    print(*input_data, sep=\"\\n\")\n",
    "\n",
    "\n",
    "start = time.time()\n",
    "data = [retrieve(item) for item in range(8)]\n",
    "print_runtime(data, start)"
   ]
  },
  {
   "cell_type": "markdown",
   "id": "97aa047d",
   "metadata": {},
   "source": [
    "The total time it takes to run the function is 2.82 seconds, but this may vary on your individual computer.\n",
    "It's important to note that our basic Python version is not capable of running this function simultaneously."
   ]
  },
  {
   "cell_type": "markdown",
   "id": "30291db3",
   "metadata": {},
   "source": [
    "You may not have been surprised to hear this, but it's likely that you at least suspected\n",
    "that Python list comprehensions are more efficient in terms of performance.\n",
    "The runtime we measured, which was 2.8 seconds, is actually the worst case scenario.\n",
    "It may be frustrating to see that a program that mostly just \"sleeps\" during its runtime could still be so slow,\n",
    "but the reason for this is due to the Global Interpreter Lock (GIL), which gets enough criticism as it is."
   ]
  },
  {
   "cell_type": "markdown",
   "id": "2ebb32d4",
   "metadata": {},
   "source": [
    "### Ray Tasks\n",
    "\n",
    "It’s reasonable to assume that such a task can benefit from parallelization.\n",
    "Perfectly distributed, the runtime should not take much longer than the longest subtask,\n",
    "namely `7/10. = 0.7` seconds.\n",
    "So, let’s see how you can extend this example to run on Ray.\n",
    "To do so, you start by using the @ray.remote decorator"
   ]
  },
  {
   "cell_type": "code",
   "execution_count": 5,
   "id": "1e21e7c7",
   "metadata": {},
   "outputs": [],
   "source": [
    "import ray \n",
    "\n",
    "\n",
    "@ray.remote\n",
    "def retrieve_task(item):\n",
    "    return retrieve(item)"
   ]
  },
  {
   "cell_type": "markdown",
   "id": "935a4062",
   "metadata": {},
   "source": [
    "In this way, the function retrieve_task becomes a so-called _Ray task_.\n",
    "In essence, a Ray task is a function that gets executed on a different process that\n",
    "it was called from, potentially on a different machine."
   ]
  },
  {
   "cell_type": "markdown",
   "id": "78afc80a",
   "metadata": {},
   "source": [
    "It is very convenient to use Ray because you can continue to write your Python code as usual,\n",
    "without having to significantly change your approach or programming style.\n",
    "Using the `@ray.remote` decorator on your retrieve function is the intended use of decorators,\n",
    "but for the purpose of clarity, we did not modify the original code in this example."
   ]
  },
  {
   "cell_type": "markdown",
   "id": "c5dc2e18",
   "metadata": {},
   "source": [
    "To retrieve database entries and measure performance, what changes do you need to make to the code?\n",
    "It's actually not a lot. Here's an overview of the process:"
   ]
  },
  {
   "cell_type": "code",
   "execution_count": 6,
   "id": "a34697da",
   "metadata": {},
   "outputs": [
    {
     "name": "stderr",
     "output_type": "stream",
     "text": [
      "2022-12-20 13:52:34,632\tINFO worker.py:1529 -- Started a local Ray instance. View the dashboard at \u001B[1m\u001B[32m127.0.0.1:8265 \u001B[39m\u001B[22m\n"
     ]
    },
    {
     "name": "stdout",
     "output_type": "stream",
     "text": [
      "Runtime: 4.54 seconds, data:\n",
      "(0, 'Learning')\n",
      "(1, 'Ray')\n",
      "(2, 'Flexible')\n",
      "(3, 'Distributed')\n",
      "(4, 'Python')\n",
      "(5, 'for')\n",
      "(6, 'Machine')\n",
      "(7, 'Learning')\n"
     ]
    }
   ],
   "source": [
    "start = time.time()\n",
    "object_references = [\n",
    "    retrieve_task.remote(item) for item in range(8)\n",
    "]\n",
    "data = ray.get(object_references)\n",
    "print_runtime(data, start)"
   ]
  },
  {
   "cell_type": "markdown",
   "id": "8df4087c",
   "metadata": {},
   "source": [
    "Have you noticed the differences?\n",
    "To execute your Ray task remotely, you must use a `.remote()` call.\n",
    "When tasks are executed remotely, even on your local cluster, Ray does it asynchronously.\n",
    "The items in the object_references list in the previous code snippet do not directly contain the results.\n",
    "In fact, if you check the Python type of the first item using `type(object_references[0])`,\n",
    "you will see that it is actually an `ObjectRef`.\n",
    "These object references correspond to _futures_ that you need to request the result of.\n",
    "This is what the call to `ray.get(...)` is for. Whenever you call remote on a Ray task,\n",
    "it will immediately return one or more object references.\n",
    "You should consider Ray tasks as the primary way of creating objects.\n",
    "In the following section, we will provide an example that links multiple tasks together and allows\n",
    "Ray to handle passing and resolving the objects between them."
   ]
  },
  {
   "cell_type": "markdown",
   "id": "2373ddd9",
   "metadata": {},
   "source": [
    "We'll continue working on this example, but let's take a moment to review what we have done so far.\n",
    "You began with a Python function and decorated it with `@ray.remote`, which made the function a Ray task.\n",
    "Instead of directly calling the original function in your code, you called `.remote(...)` on the Ray task.\n",
    "The final step was to retrieve the results back from your Ray cluster using `.get(...)`.\n",
    "This process is so straightforward that you can probably create your own Ray task from another function without referring back to this example.\n",
    "Why don't you give it a try now?"
   ]
  },
  {
   "cell_type": "code",
   "execution_count": null,
   "outputs": [],
   "source": [],
   "metadata": {
    "collapsed": false
   }
  },
  {
   "cell_type": "markdown",
   "id": "e008a500",
   "metadata": {},
   "source": [
    "Coming back to our example, by using Ray tasks, what did we gain in terms of performance?\n",
    "On most laptops the runtime clocks in at around 0.71 seconds,\n",
    "which is just slightly more than the longest subtask, which comes in at 0.7 seconds.\n",
    "That’s great and much better than before, but we can further improve our program by leveraging more of Ray’s API."
   ]
  },
  {
   "cell_type": "markdown",
   "id": "54f53644",
   "metadata": {},
   "source": [
    "### The Object Store\n",
    "\n",
    "One aspect that may have been noticed is that the retrieve definition involves directly accessing items from the `database`.\n",
    "While this works well on a local Ray cluster, it is important to consider how this would function on an actual cluster with multiple computers.\n",
    "In a Ray cluster, there is a head node with a driver process and multiple worker nodes with worker processes executing tasks.\n",
    "By default, Ray creates as many worker processes as there are CPU cores on the machine.\n",
    "However, in this scenario the database is defined on the driver only, but the worker processes need access to it to run the retrieve task.\n",
    "Fortunately, Ray has a simple solution for sharing objects between the driver and workers or between workers - using\n",
    "the `put` function to place the data into Ray's distributed object store.\n",
    "In the `retrieve_task` definition, we explicitly include a `db` argument, which will later be passed the `db_object_ref` object."
   ]
  },
  {
   "cell_type": "code",
   "execution_count": 7,
   "id": "da66a836",
   "metadata": {},
   "outputs": [],
   "source": [
    "db_object_ref = ray.put(database)\n",
    "\n",
    "\n",
    "@ray.remote\n",
    "def retrieve_task(item, db):\n",
    "    time.sleep(item / 10.)\n",
    "    return item, db[item]"
   ]
  },
  {
   "cell_type": "markdown",
   "id": "72f37eb4",
   "metadata": {},
   "source": [
    "By utilizing the object store in this manner, you can allow Ray to manage data access throughout the entire cluster.\n",
    "Although interacting with the object store involves some overhead, it offers improved performance when dealing with larger, more realistic datasets.\n",
    "For now, the crucial aspect is that this step is crucial in a truly distributed environment.\n",
    "If desired, you can try rerunning the previous example with the new `retrieve_task` function to confirm that it still executes as expected."
   ]
  },
  {
   "cell_type": "markdown",
   "id": "453e312f",
   "metadata": {},
   "source": [
    "### Non-blocking calls\n",
    "\n",
    "In a previous example, we used `ray.get(object_references)` to retrieve results.\n",
    "This call blocks the driver process until all results are available.\n",
    "While this may not be an issue if the program finishes in a short amount of time, it could cause problems if each database item takes several minutes to process.\n",
    "In this case, it would be more efficient to allow the driver process to perform other tasks while waiting for results,\n",
    "and to process results as they are completed rather than waiting for all items to be finished.\n",
    "Additionally, if one of the database items cannot be retrieved due to an issue like a deadlock in the database connection,\n",
    "the driver will hang indefinitely.\n",
    "To prevent this, it is a good idea to set reasonable timeouts using the wait function.\n",
    "For example, if we do not want to wait longer than ten times the longest data retrieval task,\n",
    "we can use the wait function to stop the task after that time has passed."
   ]
  },
  {
   "cell_type": "code",
   "execution_count": 8,
   "id": "75da06ec",
   "metadata": {},
   "outputs": [
    {
     "name": "stdout",
     "output_type": "stream",
     "text": [
      "Runtime: 0.11 seconds, data:\n",
      "(0, 'Learning')\n",
      "(1, 'Ray')\n",
      "Runtime: 0.31 seconds, data:\n",
      "(2, 'Flexible')\n",
      "(3, 'Distributed')\n",
      "Runtime: 0.51 seconds, data:\n",
      "(4, 'Python')\n",
      "(5, 'for')\n",
      "Runtime: 0.71 seconds, data:\n",
      "(6, 'Machine')\n",
      "(7, 'Learning')\n",
      "Runtime: 0.71 seconds, data:\n",
      "(0, 'Learning')\n",
      "(1, 'Ray')\n",
      "(2, 'Flexible')\n",
      "(3, 'Distributed')\n",
      "(4, 'Python')\n",
      "(5, 'for')\n",
      "(6, 'Machine')\n",
      "(7, 'Learning')\n"
     ]
    }
   ],
   "source": [
    "start = time.time()\n",
    "object_references = [\n",
    "    retrieve_task.remote(item, db_object_ref) for item in range(8)\n",
    "]\n",
    "all_data = []\n",
    "\n",
    "while len(object_references) > 0:\n",
    "    finished, object_references = ray.wait(\n",
    "        object_references, num_returns=2, timeout=7.0\n",
    "    )\n",
    "    data = ray.get(finished)\n",
    "    print_runtime(data, start)\n",
    "    all_data.extend(data)\n",
    "\n",
    "print_runtime(all_data, start)"
   ]
  },
  {
   "cell_type": "markdown",
   "id": "cf6f00c3",
   "metadata": {},
   "source": [
    "Instead of simply printing the results, we could have utilized the values that have been retrieved\n",
    "within the `while` loop to initiate new tasks on other workers."
   ]
  },
  {
   "cell_type": "markdown",
   "id": "1a9f6be5",
   "metadata": {},
   "source": [
    "### Task dependencies\n",
    "\n",
    "So far, our example program has been straightforward conceptually.\n",
    "It involves one step, which is retrieving a group of items from a database.\n",
    "However, let's say we want to perform an additional processing task on the data after it has been retrieved.\n",
    "For example, we want to use the results from the first retrieval task to query other related data from the same database\n",
    "(for example, from a different table).\n",
    "The code below sets up this follow-up task and executes both the `retrieve_task` and `follow_up_task` in sequence."
   ]
  },
  {
   "cell_type": "code",
   "execution_count": 9,
   "id": "f5734bb1",
   "metadata": {
    "lines_to_next_cell": 2
   },
   "outputs": [
    {
     "name": "stdout",
     "output_type": "stream",
     "text": [
      "((0, 'Learning'), (1, 'Ray'))\n",
      "((2, 'Flexible'), (3, 'Distributed'))\n",
      "((4, 'Python'), (5, 'for'))\n",
      "((6, 'Machine'), (7, 'Learning'))\n"
     ]
    }
   ],
   "source": [
    "@ray.remote\n",
    "def follow_up_task(retrieve_result):\n",
    "    original_item, _ = retrieve_result\n",
    "    follow_up_result = retrieve(original_item + 1)\n",
    "    return retrieve_result, follow_up_result\n",
    "\n",
    "\n",
    "retrieve_refs = [retrieve_task.remote(item, db_object_ref) for item in [0, 2, 4, 6]]\n",
    "follow_up_refs = [follow_up_task.remote(ref) for ref in retrieve_refs]\n",
    "\n",
    "result = [print(data) for data in ray.get(follow_up_refs)]"
   ]
  },
  {
   "cell_type": "markdown",
   "id": "6e4a6945",
   "metadata": {},
   "source": [
    "If you're not experienced with asynchronous programming, this example may not seem particularly impressive.\n",
    "However, at second glance it might be somewhat surprising that the code runs at all.\n",
    "So, what's the significance of this?\n",
    "Essentially, the code appears to be a regular Python function with a few list comprehensions.\n",
    "\n",
    "The point is that the function body of `follow_up_task` expects a Python tuple for its input argument `retrieve_result`.\n",
    "However, when we use the `[follow_up_task.remote(ref) for ref in retrieve_refs]` command,\n",
    "we are not actually passing tuples to the follow-up task at all.\n",
    "Instead, we are using the `retrieve_refs` to pass in Ray object references.\n",
    "\n",
    "Behind the scenes, Ray recognizes that the `follow_up_task` needs actual values,\n",
    "so it will _automatically_ use the `ray.get` function to resolve these futures.\n",
    "Additionally, Ray creates a dependency graph for all the tasks and executes them in a way that respects their dependencies.\n",
    "This means that we don't have to explicitly tell Ray when to wait for a previous task to be completed -\n",
    "it is able to infer this information on its own.\n",
    "This feature of the Ray object store is particularly useful because it allows us to avoid copying large intermediate values\n",
    "back to the driver by simply passing the object references to the next task and letting Ray handle the rest."
   ]
  },
  {
   "cell_type": "markdown",
   "id": "f8722673",
   "metadata": {},
   "source": [
    "The next steps in the process will only be scheduled once the tasks specifically designed to retrieve information are completed.\n",
    "In fact, if we had named the `retrieve_refs` task something like `retrieve_result`, you might not have even noticed this crucial detail.\n",
    "This was intentional, as Ray wants you to concentrate on your work rather than the technicalities of cluster computing.\n",
    "The dependency graph for the two tasks looks like this:"
   ]
  },
  {
   "cell_type": "markdown",
   "id": "d03b8e46",
   "metadata": {
    "lines_to_next_cell": 2
   },
   "source": [
    "![Task dependency](https://raw.githubusercontent.com/maxpumperla/learning_ray/main/notebooks/images/chapter_02/task_dependency.png)"
   ]
  },
  {
   "cell_type": "markdown",
   "id": "e4001edb",
   "metadata": {},
   "source": [
    "### Ray Actors\n",
    "\n",
    "Before concluding this example, we should cover one more significant aspect of Ray Core.\n",
    "As you can see in our example, everything is essentially a function.\n",
    "We utilized the `@ray.remote` decorator to make certain functions remote, but besides that, we only used standard Python."
   ]
  },
  {
   "cell_type": "markdown",
   "id": "2a7a6e69",
   "metadata": {},
   "source": [
    "If we want to keep track of how often our database is being queried, we could just count the results of the retrieve tasks.\n",
    "However, is there a more efficient way to do this? Ideally, we want to track this in a distributed manner that can handle a large amount of data.\n",
    "Ray provides a solution with actors, which are used to run stateful computations on a cluster and can also communicate with each other.\n",
    "Similar to how Ray tasks are created using decorated functions, Ray actors are created using decorated Python classes.\n",
    "Therefore, we can create a simple counter using a Ray actor to track the number of database calls."
   ]
  },
  {
   "cell_type": "code",
   "execution_count": 10,
   "id": "717df7d0",
   "metadata": {},
   "outputs": [],
   "source": [
    "@ray.remote\n",
    "class DataTracker:\n",
    "    def __init__(self):\n",
    "        self._counts = 0\n",
    "\n",
    "    def increment(self):\n",
    "        self._counts += 1\n",
    "\n",
    "    def counts(self):\n",
    "        return self._counts"
   ]
  },
  {
   "cell_type": "markdown",
   "id": "2e003cc6",
   "metadata": {},
   "source": [
    "The DataTracker class is an actor because it has been given the `ray.remote` decorator. This actor is capable of tracking state,\n",
    "such as a counter, and its methods are Ray tasks that can be invoked in the same way as functions using `.remote()`.\n",
    "We can modify the retrieve_task to incorporate this actor."
   ]
  },
  {
   "cell_type": "code",
   "execution_count": 11,
   "id": "6843b8d9",
   "metadata": {
    "lines_to_next_cell": 2
   },
   "outputs": [
    {
     "name": "stdout",
     "output_type": "stream",
     "text": [
      "[(0, 'Learning'), (1, 'Ray'), (2, 'Flexible'), (3, 'Distributed'), (4, 'Python'), (5, 'for'), (6, 'Machine'), (7, 'Learning')]\n",
      "8\n"
     ]
    }
   ],
   "source": [
    "@ray.remote\n",
    "def retrieve_tracker_task(item, tracker, db):\n",
    "    time.sleep(item / 10.)\n",
    "    tracker.increment.remote()\n",
    "    return item, db[item]\n",
    "\n",
    "\n",
    "tracker = DataTracker.remote()\n",
    "\n",
    "object_references = [\n",
    "    retrieve_tracker_task.remote(item, tracker, db_object_ref) for item in range(8)\n",
    "]\n",
    "data = ray.get(object_references)\n",
    "\n",
    "print(data)\n",
    "print(ray.get(tracker.counts.remote()))"
   ]
  },
  {
   "cell_type": "markdown",
   "id": "ae886162",
   "metadata": {},
   "source": [
    "As expected, the outcome of this calculation is 8.\n",
    "Although we didn't need actors to perform this calculation, it's valuable to have a way to maintain state across the cluster, possibly involving multiple tasks.\n",
    "In fact, we could pass our actor into any related task or even into the constructor of a different actor.\n",
    "The Ray API is very flexible, allowing for limitless possibilities.\n",
    "It's also worth mentioning that it's not common for distributed Python tools to allow for stateful computations like this,\n",
    "making it especially useful for running complex distributed algorithms such as reinforcement learning.\n",
    "This concludes our detailed first example of the Ray API.\n",
    "To wrap this up, let's briefly summarize the Ray API."
   ]
  },
  {
   "cell_type": "markdown",
   "id": "fb8bd0f5",
   "metadata": {},
   "source": [
    "## A Summary of the Ray Core API\n",
    "\n",
    "Looking back at what we did in the previous example, you will see that we only used six API methods.\n",
    "These included `ray.init()` to initiate the cluster, `@ray.remote` to transform functions and classes into tasks and actors,\n",
    "`ray.put()` to transfer values into Ray's object store, and `ray.get()` to retrieve objects from the cluster.\n",
    "Additionally, we used `.remote()` on actor methods or tasks to execute code on our cluster, and `ray.wait` to prevent blocking calls."
   ]
  },
  {
   "cell_type": "markdown",
   "id": "0d8693e9",
   "metadata": {},
   "source": [
    "The Ray API consists of far more than just these six calls, but knowing just these can get you quite far, if you're just starting out with Ray.\n",
    "To make it easier to remember these methods, here's a summary:"
   ]
  },
  {
   "cell_type": "markdown",
   "id": "f2fb14bd",
   "metadata": {},
   "source": [
    "- ray.init(): Initializes your Ray cluster. Pass in an address to connect to an existing cluster.\n",
    "- @ray.remote: Turns functions into tasks and classes into actors.\n",
    "- ray.put(): Puts values into Ray’s object store.\n",
    "- ray.get(): Gets values from the object store. Returns the values you’ve put there or that were computed by a task or actor.\n",
    "- .remote(): Runs actor methods or tasks on your Ray cluster and is used to instantiate actors.\n",
    "- ray.wait(): Returns two lists of object references, one with finished tasks we’re waiting for and one with unfinished tasks."
   ]
  },
  {
   "cell_type": "markdown",
   "source": [
    "## Want to learn more?\n",
    "\n",
    "This example is a simplified version of the Ray Core walkthrough of [our \"Learning Ray\" book](https://maxpumperla.com/learning_ray/).\n",
    "If you liked it, check out the [Ray Core Examples Gallery](./overview.rst) or some of the ML workloads in our [Use Case Gallery](../../ray-overview/use-cases.rst)."
   ],
   "metadata": {
    "collapsed": false
   }
  },
  {
   "cell_type": "code",
   "execution_count": null,
   "outputs": [],
   "source": [],
   "metadata": {
    "collapsed": false
   }
  }
 ],
 "metadata": {
  "jupytext": {
   "cell_metadata_filter": "-all",
   "main_language": "python",
   "notebook_metadata_filter": "-all"
  },
  "kernelspec": {
   "display_name": "Python 3 (ipykernel)",
   "language": "python",
   "name": "python3"
  },
  "language_info": {
   "codemirror_mode": {
    "name": "ipython",
    "version": 3
   },
   "file_extension": ".py",
   "mimetype": "text/x-python",
   "name": "python",
   "nbconvert_exporter": "python",
   "pygments_lexer": "ipython3",
   "version": "3.9.13"
  }
 },
 "nbformat": 4,
 "nbformat_minor": 5
}
